{
 "cells": [
  {
   "cell_type": "code",
   "execution_count": 1,
   "metadata": {},
   "outputs": [],
   "source": [
    "import pandas as pd"
   ]
  },
  {
   "cell_type": "code",
   "execution_count": 2,
   "metadata": {},
   "outputs": [],
   "source": [
    "#Preprocess data with min ratings and users values. updates all indexes\n",
    "movied_pd = pd.read_csv(\"./data/movies.csv\", header=0)\n",
    "ratings_pd = pd.read_csv(\"./data/ratings.csv\")\n",
    "\n",
    "MIN_RATINGS = 50\n",
    "MIN_USERS = 25\n",
    "rating_series = ratings_pd['movieId'].value_counts()\n",
    "user_series = ratings_pd['userId'].value_counts()\n",
    "while(rating_series.min() < MIN_RATINGS or user_series.min() < MIN_USERS):\n",
    "    #Filter movies rated less then MIN_RATINGS times\n",
    "    rating_series = ratings_pd['movieId'].value_counts()\n",
    "    rating_series = rating_series[rating_series >= MIN_RATINGS ]\n",
    "    inclusive_rating_list = rating_series.index.tolist()\n",
    "    ratings_pd = ratings_pd[ratings_pd['movieId'].isin(inclusive_rating_list)]\n",
    "\n",
    "    #Filter users that rated less then MIN_USERS times\n",
    "    user_series = ratings_pd['userId'].value_counts()\n",
    "    user_series = user_series[user_series >= MIN_USERS ]\n",
    "    inclusive_user_list = user_series.index.tolist()\n",
    "    ratings_pd = ratings_pd[ratings_pd['userId'].isin(inclusive_user_list)]\n",
    "\n",
    "    rating_series = ratings_pd['movieId'].value_counts()\n",
    "    user_series = ratings_pd['userId'].value_counts()\n",
    "\n",
    "#Filter movies not in list\n",
    "rating_series = ratings_pd['movieId'].value_counts()\n",
    "rating_series = rating_series[rating_series >= 25 ]\n",
    "inclusive_rating_list = rating_series.index.tolist()\n",
    "movied_pd = movied_pd[movied_pd['movieId'].isin(inclusive_rating_list)]\n",
    "\n",
    "id_to_index = dict()\n",
    "index_to_id = dict()\n",
    "for i in range(0, len(movied_pd)) :\n",
    "    index_to_id[i] = movied_pd.iloc[i].movieId\n",
    "    id_to_index[movied_pd.iloc[i].movieId] = i\n",
    "movied_pd['movieId'] = movied_pd['movieId'].map(lambda id: id_to_index[id])\n",
    "ratings_pd['movieId'] = ratings_pd['movieId'].map(lambda id: id_to_index[id])\n",
    "\n",
    "\n",
    "id_to_index = dict()\n",
    "itr = 0\n",
    "i = 0\n",
    "while i <  len(ratings_pd) -1:\n",
    "    id = ratings_pd.iloc[i][\"userId\"]\n",
    "    id_to_index[id] = itr\n",
    "    while(i <  len(ratings_pd) - 1 and id == ratings_pd.iloc[i][\"userId\"]):\n",
    "        i+=1\n",
    "    itr += 1\n",
    "ratings_pd['userId'] = ratings_pd['userId'].map(lambda id: id_to_index[id])\n",
    "\n",
    "\n",
    "\n",
    "movied_pd.to_csv(\"./data/movies_clean.csv\", index=False)\n",
    "ratings_pd.to_csv(\"./data/ratings_clean.csv\", index=False)\n"
   ]
  }
 ],
 "metadata": {
  "kernelspec": {
   "display_name": "Python 3",
   "language": "python",
   "name": "python3"
  },
  "language_info": {
   "codemirror_mode": {
    "name": "ipython",
    "version": 3
   },
   "file_extension": ".py",
   "mimetype": "text/x-python",
   "name": "python",
   "nbconvert_exporter": "python",
   "pygments_lexer": "ipython3",
   "version": "3.10.10"
  },
  "orig_nbformat": 4,
  "vscode": {
   "interpreter": {
    "hash": "8eea8046df991f2c7d150f9e200d8f84229f8c45d279eb8096b41663a27964b3"
   }
  }
 },
 "nbformat": 4,
 "nbformat_minor": 2
}
