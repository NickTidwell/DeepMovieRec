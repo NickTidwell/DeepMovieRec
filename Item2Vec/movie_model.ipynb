{
 "cells": [
  {
   "cell_type": "code",
   "execution_count": 1,
   "metadata": {},
   "outputs": [],
   "source": [
    "import pandas as pd\n",
    "import numpy as np\n",
    "##\\\n",
    "import pickle as pk\n",
    "import torch\n",
    "from torch.utils.data import Dataset, DataLoader\n",
    "import torch.nn as nn\n",
    "import torch.optim as optim"
   ]
  },
  {
   "cell_type": "code",
   "execution_count": 2,
   "metadata": {},
   "outputs": [
    {
     "data": {
      "text/plain": [
       "False"
      ]
     },
     "execution_count": 2,
     "metadata": {},
     "output_type": "execute_result"
    }
   ],
   "source": [
    "torch.cuda.is_available()"
   ]
  },
  {
   "cell_type": "code",
   "execution_count": 3,
   "metadata": {},
   "outputs": [],
   "source": [
    "movie_file=\"./data/movies_clean_full.csv\"\n",
    "rating_file=\"./data/ratings_clean_full.csv\"\n",
    "samples_file = \"samples_rnd_full.pk\"\n",
    "ratings_pd = pd.read_csv(rating_file)\n",
    "movied_pd = pd.read_csv(movie_file, index_col=[\"movieId\"], header=0)"
   ]
  },
  {
   "cell_type": "code",
   "execution_count": 4,
   "metadata": {},
   "outputs": [],
   "source": [
    "args = {\n",
    "    \"batch_size\" : 1000,\n",
    "    \"embedding_size\" : 10,\n",
    "    \"epoch\": 1,\n",
    "    \"lr\": 0.1,\n",
    "    }\n",
    "\n",
    "movies_size= len(movied_pd)\n",
    "user_size = ratings_pd[\"userId\"].nunique()\n"
   ]
  },
  {
   "cell_type": "code",
   "execution_count": 5,
   "metadata": {},
   "outputs": [],
   "source": [
    "class ItemDataset(Dataset):\n",
    "    def __init__(self, data):\n",
    "        self.data = data\n",
    "\n",
    "    def __getitem__(self, index):\n",
    "        target_category = torch.tensor()\n",
    "        context_category = torch.tensor()\n",
    "        target = torch.tensor(self.data[index][0], dtype=torch.long)\n",
    "        context = torch.tensor(self.data[index][1], dtype=torch.long)\n",
    "        label = torch.tensor(self.data[index][2], dtype=torch.float32)\n",
    "\n",
    "        return target, context, label\n",
    "\n",
    "    def __len__(self):\n",
    "        return len(self.data)\n",
    "#split samples here\n",
    "with open(samples_file, 'rb') as file:\n",
    "    # Call load method to deserialze\n",
    "    samples = pk.load(file)\n",
    "item_dataset = ItemDataset(samples)\n",
    "train_loader = DataLoader(item_dataset, batch_size=args[\"batch_size\"], shuffle=True)\n",
    "loss_vals = []\n",
    "acc_vals = []"
   ]
  },
  {
   "cell_type": "code",
   "execution_count": 110,
   "metadata": {},
   "outputs": [
    {
     "name": "stdout",
     "output_type": "stream",
     "text": [
      "[0, [32, 3008, 7729, 7771, 3566, 2974], [1, 0, 0, 0, 0, 0]]\n",
      "4578119\n"
     ]
    }
   ],
   "source": [
    "print(samples[5])\n",
    "print(len(samples))"
   ]
  },
  {
   "cell_type": "code",
   "execution_count": 197,
   "metadata": {},
   "outputs": [
    {
     "name": "stdout",
     "output_type": "stream",
     "text": [
      "[[0, [14, 9231, 639, 9114, 5491, 8446], [1, 0, 0, 0, 0, 0]]]\n"
     ]
    }
   ],
   "source": [
    "print(samples[:1])"
   ]
  },
  {
   "cell_type": "code",
   "execution_count": 195,
   "metadata": {},
   "outputs": [
    {
     "name": "stdout",
     "output_type": "stream",
     "text": [
      "tensor([-0.1820, -0.1524,  0.2839,  0.4781,  0.7424,  0.3419,  1.3038,  0.5505,\n",
      "         0.3006, -0.1380], grad_fn=<SelectBackward0>)\n",
      "tensor([-0.3841, -0.6770, -0.0674, -0.0601], grad_fn=<SelectBackward0>)\n",
      "tensor([-0.1820, -0.1524,  0.2839,  0.4781,  0.7424,  0.3419,  1.3038,  0.5505,\n",
      "         0.3006, -0.1380, -0.3841, -0.6770, -0.0674, -0.0601],\n",
      "       grad_fn=<CatBackward0>)\n"
     ]
    }
   ],
   "source": [
    "import random\n",
    "genere_embed = nn.Embedding(20, 4)\n",
    "genere_list = {'Comedy', 'War', 'Romance', 'Horror', 'IMAX', '(no genres listed)', 'Documentary', 'Adventure', 'Drama', 'Fantasy', 'Animation', 'Film-Noir', 'Thriller', 'Action', 'Children', 'Musical', 'Mystery', 'Sci-Fi', 'Western', 'Crime'}\n",
    "genere_to_id = dict()\n",
    "id_to_genere = dict()\n",
    "for idx,genere in enumerate(genere_list):\n",
    "    genere_to_id[genere] = idx\n",
    "    id_to_genere[idx] = genere\n",
    "\n",
    "gval = genere_embed.weight[1]\n",
    "mval = model.shared_embedding.weight[1]\n",
    "print(mval)\n",
    "print(gval)\n",
    "\n",
    "concat = torch.cat((mval,gval),dim=0)\n",
    "print(concat)\n",
    "#Need category per movie\n",
    "\n",
    "# print(model.shared_embedding.weight)\n",
    "# print(genere_to_id)\n",
    "\n",
    "# t = torch.tensor([])\n",
    "# print(t.shape)\n",
    "# for i in range(model.shared_embedding.weight.shape[0]):\n",
    "#     category = random.choice(movied_pd.iloc[i][\"genres\"].split('|'))\n",
    "#     genered_embed = genere_embed(torch.tensor(genere_to_id[category]))\n",
    "#     if i == 0 :\n",
    "#         t = genered_embed\n",
    "#     else :\n",
    "#         t = torch.stack((t, genered_embed), dim=0)\n",
    "# print(t)"
   ]
  },
  {
   "cell_type": "code",
   "execution_count": null,
   "metadata": {},
   "outputs": [],
   "source": []
  },
  {
   "cell_type": "code",
   "execution_count": 111,
   "metadata": {},
   "outputs": [],
   "source": [
    "class ItemVectorModel(nn.Module):\n",
    "    def __init__(self, args):\n",
    "        super(ItemVectorModel, self).__init__()\n",
    "        self.shared_embedding = nn.Embedding(movies_size, args[\"embedding_size\"])\n",
    "        self.activation = nn.Sigmoid()\n",
    "\n",
    "    def forward(self, target, context):\n",
    "        context_emb = self.shared_embedding(context)\n",
    "        movie_emb = self.shared_embedding(target)\n",
    "        dots = torch.einsum('be,bce->bc', movie_emb, context_emb)\n",
    "        return dots\n",
    "        \n",
    "    def fit(self, train_loader, epoch=args[\"epoch\"], lr=args[\"lr\"]):\n",
    "        self.train()\n",
    "        optimizer = optim.Adam(self.parameters())\n",
    "        loss_func = nn.BCEWithLogitsLoss()\n",
    "        for i in range(1, epoch+1):\n",
    "            #target.shape batch, : context.shape batch x neg_c ; label.shape = batch x neg_c\n",
    "            correct = 0\n",
    "            total = 0\n",
    "            iter = 0\n",
    "            for target, context, label in train_loader:\n",
    "                self.zero_grad()\n",
    "                x = self.forward(target, context)\n",
    "                loss = loss_func(x, label)\n",
    "                loss.backward()\n",
    "                optimizer.step()\n",
    "   \n",
    "                iter += 1\n",
    "                if iter % 500 == 0 :\n",
    "                    loss_vals.append(loss.item())\n",
    "                    print(f\"iter {iter}/{len(train_loader)} loss: {loss.item()}\", end='\\r')\n",
    "                    with torch.no_grad():\n",
    "                        pred = torch.argmax(self.activation(x), dim=1)\n",
    "                        lbl = torch.argmax(label, dim=1)\n",
    "                        total += lbl.size(0)\n",
    "                        correct += (pred == lbl).sum().item()\n",
    "                        acc_vals.append(100 * correct / total)\n",
    "            accuracy = 100 * correct / total\n",
    "            print(f\"epoch {i}/{epoch} loss: {loss.item()}\\taccuracy: {accuracy}\")\n"
   ]
  },
  {
   "cell_type": "code",
   "execution_count": 112,
   "metadata": {},
   "outputs": [],
   "source": [
    "model = ItemVectorModel(args)"
   ]
  },
  {
   "cell_type": "code",
   "execution_count": 121,
   "metadata": {},
   "outputs": [
    {
     "name": "stdout",
     "output_type": "stream",
     "text": [
      "epoch 1/5 loss: 0.17118369042873383\taccuracy: 83.94444444444444\n",
      "epoch 2/5 loss: 0.14579801261425018\taccuracy: 84.4888888888889\n",
      "epoch 3/5 loss: 0.14462397992610931\taccuracy: 84.45555555555555\n",
      "epoch 4/5 loss: 0.15052944421768188\taccuracy: 84.35555555555555\n",
      "epoch 5/5 loss: 0.1504761278629303\taccuracy: 84.65555555555555\n"
     ]
    }
   ],
   "source": [
    "model.fit(train_loader, epoch=5)\n"
   ]
  },
  {
   "cell_type": "code",
   "execution_count": 115,
   "metadata": {},
   "outputs": [],
   "source": [
    "def ranking(query_liked, query_disliked):\n",
    "    with torch.no_grad():\n",
    "        # weights = model.activation(model.shared_embedding.weight.detach()).numpy()\n",
    "        weights = model.shared_embedding.weight.detach().numpy()\n",
    "\n",
    "        query_res = weights[query_liked].sum(axis=0)\n",
    "        if(len(query_disliked) > 0):\n",
    "            query_res = np.subtract(query_res, weights[query_disliked].sum(axis=0))\n",
    "        outs = list()\n",
    "        for idx,movie in movied_pd[\"title\"].items():\n",
    "            movie = weights[idx]\n",
    "            vector_dot = np.dot(movie, query_res)\n",
    "            movie_1_length = np.linalg.norm(movie,2)\n",
    "            query_length = np.linalg.norm(query_res,2)\n",
    "            cosine_dist =  (vector_dot / (movie_1_length * query_length))\n",
    "            # print(outs)\n",
    "            outs.append(cosine_dist)\n",
    "        return torch.tensor(np.stack(outs,0))"
   ]
  },
  {
   "cell_type": "code",
   "execution_count": 116,
   "metadata": {},
   "outputs": [],
   "source": [
    "def display_top_k(score, indices, k=5):\n",
    "    top_scores = score[:k]\n",
    "    top_indic = indices[:k]\n",
    "    top_names = []\n",
    "    top_generes = []\n",
    "\n",
    "    for movie_id in top_indic:\n",
    "        top_names.append(movied_pd.loc[movie_id.item()][\"title\"])\n",
    "        top_generes.append(movied_pd.loc[movie_id.item()][\"genres\"])\n",
    "        \n",
    "    df = pd.DataFrame({\n",
    "        \"score_key\": top_scores.numpy(),\n",
    "        'titles':top_names,\n",
    "        'genres': top_generes\n",
    "    })\n",
    "    print(df)"
   ]
  },
  {
   "cell_type": "code",
   "execution_count": 122,
   "metadata": {},
   "outputs": [
    {
     "name": "stdout",
     "output_type": "stream",
     "text": [
      "===========COSINE SIMILARITY===================\n",
      "   score_key                                             titles  \\\n",
      "0   1.000000                                   Toy Story (1995)   \n",
      "1   0.986410                                        Heat (1995)   \n",
      "2   0.986184                       Sense and Sensibility (1995)   \n",
      "3   0.985423              Ace Ventura: When Nature Calls (1995)   \n",
      "4   0.984869  City of Lost Children, The (Cité des enfants p...   \n",
      "5   0.982242                                      Casino (1995)   \n",
      "6   0.981563                                   GoldenEye (1995)   \n",
      "7   0.979111                            Dead Man Walking (1995)   \n",
      "8   0.977948                             Dead Presidents (1995)   \n",
      "9   0.977197                                        Babe (1995)   \n",
      "\n",
      "                                        genres  \n",
      "0  Adventure|Animation|Children|Comedy|Fantasy  \n",
      "1                        Action|Crime|Thriller  \n",
      "2                                Drama|Romance  \n",
      "3                                       Comedy  \n",
      "4       Adventure|Drama|Fantasy|Mystery|Sci-Fi  \n",
      "5                                  Crime|Drama  \n",
      "6                    Action|Adventure|Thriller  \n",
      "7                                  Crime|Drama  \n",
      "8                           Action|Crime|Drama  \n",
      "9                               Children|Drama  \n"
     ]
    }
   ],
   "source": [
    "query_liked = [0]\n",
    "query_disliked = []\n",
    "topk = 10\n",
    "\n",
    "print(\"===========COSINE SIMILARITY===================\")\n",
    "score, indices = ranking(query_liked,query_disliked).sort(descending=True)\n",
    "display_top_k(score,indices, topk)\n",
    "\n"
   ]
  },
  {
   "cell_type": "code",
   "execution_count": 107,
   "metadata": {},
   "outputs": [
    {
     "name": "stdout",
     "output_type": "stream",
     "text": [
      "Parameter containing:\n",
      "tensor([[-0.0236,  0.2563,  0.1305,  ...,  0.4506, -0.4474,  0.0611],\n",
      "        [ 0.1589,  0.4065,  0.1521,  ...,  0.1098, -0.2722,  0.0370],\n",
      "        [ 0.0545,  0.2190, -0.0290,  ...,  0.2887, -0.4086,  0.1857],\n",
      "        ...,\n",
      "        [-1.5067, -2.4089, -0.1978,  ...,  0.2855,  1.8867, -4.2286],\n",
      "        [-1.5542, -1.8567, -0.6149,  ...,  1.1403,  2.1166, -3.1297],\n",
      "        [-1.4342, -2.3658, -0.2565,  ...,  1.5176,  2.7043, -3.5839]],\n",
      "       requires_grad=True)\n"
     ]
    }
   ],
   "source": [
    "print(model.shared_embedding.weight)"
   ]
  },
  {
   "cell_type": "code",
   "execution_count": 90,
   "metadata": {},
   "outputs": [
    {
     "name": "stderr",
     "output_type": "stream",
     "text": [
      "C:\\Users\\Nicholas\\AppData\\Local\\Packages\\PythonSoftwareFoundation.Python.3.10_qbz5n2kfra8p0\\LocalCache\\local-packages\\Python310\\site-packages\\sklearn\\manifold\\_t_sne.py:800: FutureWarning: The default initialization in TSNE will change from 'random' to 'pca' in 1.2.\n",
      "  warnings.warn(\n",
      "C:\\Users\\Nicholas\\AppData\\Local\\Packages\\PythonSoftwareFoundation.Python.3.10_qbz5n2kfra8p0\\LocalCache\\local-packages\\Python310\\site-packages\\sklearn\\manifold\\_t_sne.py:810: FutureWarning: The default learning rate in TSNE will change from 200.0 to 'auto' in 1.2.\n",
      "  warnings.warn(\n"
     ]
    },
    {
     "data": {
      "text/plain": [
       "<matplotlib.legend.Legend at 0x205320a3190>"
      ]
     },
     "execution_count": 90,
     "metadata": {},
     "output_type": "execute_result"
    },
    {
     "ename": "ValueError",
     "evalue": "Image size of 1634x204067 pixels is too large. It must be less than 2^16 in each direction.",
     "output_type": "error",
     "traceback": [
      "\u001b[1;31m---------------------------------------------------------------------------\u001b[0m",
      "\u001b[1;31mValueError\u001b[0m                                Traceback (most recent call last)",
      "File \u001b[1;32m~\\AppData\\Local\\Packages\\PythonSoftwareFoundation.Python.3.10_qbz5n2kfra8p0\\LocalCache\\local-packages\\Python310\\site-packages\\IPython\\core\\formatters.py:338\u001b[0m, in \u001b[0;36mBaseFormatter.__call__\u001b[1;34m(self, obj)\u001b[0m\n\u001b[0;32m    336\u001b[0m     \u001b[39mpass\u001b[39;00m\n\u001b[0;32m    337\u001b[0m \u001b[39melse\u001b[39;00m:\n\u001b[1;32m--> 338\u001b[0m     \u001b[39mreturn\u001b[39;00m printer(obj)\n\u001b[0;32m    339\u001b[0m \u001b[39m# Finally look for special method names\u001b[39;00m\n\u001b[0;32m    340\u001b[0m method \u001b[39m=\u001b[39m get_real_method(obj, \u001b[39mself\u001b[39m\u001b[39m.\u001b[39mprint_method)\n",
      "File \u001b[1;32m~\\AppData\\Local\\Packages\\PythonSoftwareFoundation.Python.3.10_qbz5n2kfra8p0\\LocalCache\\local-packages\\Python310\\site-packages\\IPython\\core\\pylabtools.py:152\u001b[0m, in \u001b[0;36mprint_figure\u001b[1;34m(fig, fmt, bbox_inches, base64, **kwargs)\u001b[0m\n\u001b[0;32m    149\u001b[0m     \u001b[39mfrom\u001b[39;00m \u001b[39mmatplotlib\u001b[39;00m\u001b[39m.\u001b[39;00m\u001b[39mbackend_bases\u001b[39;00m \u001b[39mimport\u001b[39;00m FigureCanvasBase\n\u001b[0;32m    150\u001b[0m     FigureCanvasBase(fig)\n\u001b[1;32m--> 152\u001b[0m fig\u001b[39m.\u001b[39mcanvas\u001b[39m.\u001b[39mprint_figure(bytes_io, \u001b[39m*\u001b[39m\u001b[39m*\u001b[39mkw)\n\u001b[0;32m    153\u001b[0m data \u001b[39m=\u001b[39m bytes_io\u001b[39m.\u001b[39mgetvalue()\n\u001b[0;32m    154\u001b[0m \u001b[39mif\u001b[39;00m fmt \u001b[39m==\u001b[39m \u001b[39m'\u001b[39m\u001b[39msvg\u001b[39m\u001b[39m'\u001b[39m:\n",
      "File \u001b[1;32m~\\AppData\\Local\\Packages\\PythonSoftwareFoundation.Python.3.10_qbz5n2kfra8p0\\LocalCache\\local-packages\\Python310\\site-packages\\matplotlib\\backend_bases.py:2338\u001b[0m, in \u001b[0;36mFigureCanvasBase.print_figure\u001b[1;34m(self, filename, dpi, facecolor, edgecolor, orientation, format, bbox_inches, pad_inches, bbox_extra_artists, backend, **kwargs)\u001b[0m\n\u001b[0;32m   2334\u001b[0m \u001b[39mtry\u001b[39;00m:\n\u001b[0;32m   2335\u001b[0m     \u001b[39m# _get_renderer may change the figure dpi (as vector formats\u001b[39;00m\n\u001b[0;32m   2336\u001b[0m     \u001b[39m# force the figure dpi to 72), so we need to set it again here.\u001b[39;00m\n\u001b[0;32m   2337\u001b[0m     \u001b[39mwith\u001b[39;00m cbook\u001b[39m.\u001b[39m_setattr_cm(\u001b[39mself\u001b[39m\u001b[39m.\u001b[39mfigure, dpi\u001b[39m=\u001b[39mdpi):\n\u001b[1;32m-> 2338\u001b[0m         result \u001b[39m=\u001b[39m print_method(\n\u001b[0;32m   2339\u001b[0m             filename,\n\u001b[0;32m   2340\u001b[0m             facecolor\u001b[39m=\u001b[39mfacecolor,\n\u001b[0;32m   2341\u001b[0m             edgecolor\u001b[39m=\u001b[39medgecolor,\n\u001b[0;32m   2342\u001b[0m             orientation\u001b[39m=\u001b[39morientation,\n\u001b[0;32m   2343\u001b[0m             bbox_inches_restore\u001b[39m=\u001b[39m_bbox_inches_restore,\n\u001b[0;32m   2344\u001b[0m             \u001b[39m*\u001b[39m\u001b[39m*\u001b[39mkwargs)\n\u001b[0;32m   2345\u001b[0m \u001b[39mfinally\u001b[39;00m:\n\u001b[0;32m   2346\u001b[0m     \u001b[39mif\u001b[39;00m bbox_inches \u001b[39mand\u001b[39;00m restore_bbox:\n",
      "File \u001b[1;32m~\\AppData\\Local\\Packages\\PythonSoftwareFoundation.Python.3.10_qbz5n2kfra8p0\\LocalCache\\local-packages\\Python310\\site-packages\\matplotlib\\backend_bases.py:2204\u001b[0m, in \u001b[0;36mFigureCanvasBase._switch_canvas_and_return_print_method.<locals>.<lambda>\u001b[1;34m(*args, **kwargs)\u001b[0m\n\u001b[0;32m   2200\u001b[0m     optional_kws \u001b[39m=\u001b[39m {  \u001b[39m# Passed by print_figure for other renderers.\u001b[39;00m\n\u001b[0;32m   2201\u001b[0m         \u001b[39m\"\u001b[39m\u001b[39mdpi\u001b[39m\u001b[39m\"\u001b[39m, \u001b[39m\"\u001b[39m\u001b[39mfacecolor\u001b[39m\u001b[39m\"\u001b[39m, \u001b[39m\"\u001b[39m\u001b[39medgecolor\u001b[39m\u001b[39m\"\u001b[39m, \u001b[39m\"\u001b[39m\u001b[39morientation\u001b[39m\u001b[39m\"\u001b[39m,\n\u001b[0;32m   2202\u001b[0m         \u001b[39m\"\u001b[39m\u001b[39mbbox_inches_restore\u001b[39m\u001b[39m\"\u001b[39m}\n\u001b[0;32m   2203\u001b[0m     skip \u001b[39m=\u001b[39m optional_kws \u001b[39m-\u001b[39m {\u001b[39m*\u001b[39minspect\u001b[39m.\u001b[39msignature(meth)\u001b[39m.\u001b[39mparameters}\n\u001b[1;32m-> 2204\u001b[0m     print_method \u001b[39m=\u001b[39m functools\u001b[39m.\u001b[39mwraps(meth)(\u001b[39mlambda\u001b[39;00m \u001b[39m*\u001b[39margs, \u001b[39m*\u001b[39m\u001b[39m*\u001b[39mkwargs: meth(\n\u001b[0;32m   2205\u001b[0m         \u001b[39m*\u001b[39margs, \u001b[39m*\u001b[39m\u001b[39m*\u001b[39m{k: v \u001b[39mfor\u001b[39;00m k, v \u001b[39min\u001b[39;00m kwargs\u001b[39m.\u001b[39mitems() \u001b[39mif\u001b[39;00m k \u001b[39mnot\u001b[39;00m \u001b[39min\u001b[39;00m skip}))\n\u001b[0;32m   2206\u001b[0m \u001b[39melse\u001b[39;00m:  \u001b[39m# Let third-parties do as they see fit.\u001b[39;00m\n\u001b[0;32m   2207\u001b[0m     print_method \u001b[39m=\u001b[39m meth\n",
      "File \u001b[1;32m~\\AppData\\Local\\Packages\\PythonSoftwareFoundation.Python.3.10_qbz5n2kfra8p0\\LocalCache\\local-packages\\Python310\\site-packages\\matplotlib\\_api\\deprecation.py:410\u001b[0m, in \u001b[0;36mdelete_parameter.<locals>.wrapper\u001b[1;34m(*inner_args, **inner_kwargs)\u001b[0m\n\u001b[0;32m    400\u001b[0m     deprecation_addendum \u001b[39m=\u001b[39m (\n\u001b[0;32m    401\u001b[0m         \u001b[39mf\u001b[39m\u001b[39m\"\u001b[39m\u001b[39mIf any parameter follows \u001b[39m\u001b[39m{\u001b[39;00mname\u001b[39m!r}\u001b[39;00m\u001b[39m, they should be passed as \u001b[39m\u001b[39m\"\u001b[39m\n\u001b[0;32m    402\u001b[0m         \u001b[39mf\u001b[39m\u001b[39m\"\u001b[39m\u001b[39mkeyword, not positionally.\u001b[39m\u001b[39m\"\u001b[39m)\n\u001b[0;32m    403\u001b[0m     warn_deprecated(\n\u001b[0;32m    404\u001b[0m         since,\n\u001b[0;32m    405\u001b[0m         name\u001b[39m=\u001b[39m\u001b[39mrepr\u001b[39m(name),\n\u001b[1;32m   (...)\u001b[0m\n\u001b[0;32m    408\u001b[0m                  \u001b[39melse\u001b[39;00m deprecation_addendum,\n\u001b[0;32m    409\u001b[0m         \u001b[39m*\u001b[39m\u001b[39m*\u001b[39mkwargs)\n\u001b[1;32m--> 410\u001b[0m \u001b[39mreturn\u001b[39;00m func(\u001b[39m*\u001b[39minner_args, \u001b[39m*\u001b[39m\u001b[39m*\u001b[39minner_kwargs)\n",
      "File \u001b[1;32m~\\AppData\\Local\\Packages\\PythonSoftwareFoundation.Python.3.10_qbz5n2kfra8p0\\LocalCache\\local-packages\\Python310\\site-packages\\matplotlib\\backends\\backend_agg.py:517\u001b[0m, in \u001b[0;36mFigureCanvasAgg.print_png\u001b[1;34m(self, filename_or_obj, metadata, pil_kwargs, *args)\u001b[0m\n\u001b[0;32m    468\u001b[0m \u001b[39m@_api\u001b[39m\u001b[39m.\u001b[39mdelete_parameter(\u001b[39m\"\u001b[39m\u001b[39m3.5\u001b[39m\u001b[39m\"\u001b[39m, \u001b[39m\"\u001b[39m\u001b[39margs\u001b[39m\u001b[39m\"\u001b[39m)\n\u001b[0;32m    469\u001b[0m \u001b[39mdef\u001b[39;00m \u001b[39mprint_png\u001b[39m(\u001b[39mself\u001b[39m, filename_or_obj, \u001b[39m*\u001b[39margs,\n\u001b[0;32m    470\u001b[0m               metadata\u001b[39m=\u001b[39m\u001b[39mNone\u001b[39;00m, pil_kwargs\u001b[39m=\u001b[39m\u001b[39mNone\u001b[39;00m):\n\u001b[0;32m    471\u001b[0m \u001b[39m    \u001b[39m\u001b[39m\"\"\"\u001b[39;00m\n\u001b[0;32m    472\u001b[0m \u001b[39m    Write the figure to a PNG file.\u001b[39;00m\n\u001b[0;32m    473\u001b[0m \n\u001b[1;32m   (...)\u001b[0m\n\u001b[0;32m    515\u001b[0m \u001b[39m        *metadata*, including the default 'Software' key.\u001b[39;00m\n\u001b[0;32m    516\u001b[0m \u001b[39m    \"\"\"\u001b[39;00m\n\u001b[1;32m--> 517\u001b[0m     \u001b[39mself\u001b[39;49m\u001b[39m.\u001b[39;49m_print_pil(filename_or_obj, \u001b[39m\"\u001b[39;49m\u001b[39mpng\u001b[39;49m\u001b[39m\"\u001b[39;49m, pil_kwargs, metadata)\n",
      "File \u001b[1;32m~\\AppData\\Local\\Packages\\PythonSoftwareFoundation.Python.3.10_qbz5n2kfra8p0\\LocalCache\\local-packages\\Python310\\site-packages\\matplotlib\\backends\\backend_agg.py:463\u001b[0m, in \u001b[0;36mFigureCanvasAgg._print_pil\u001b[1;34m(self, filename_or_obj, fmt, pil_kwargs, metadata)\u001b[0m\n\u001b[0;32m    458\u001b[0m \u001b[39mdef\u001b[39;00m \u001b[39m_print_pil\u001b[39m(\u001b[39mself\u001b[39m, filename_or_obj, fmt, pil_kwargs, metadata\u001b[39m=\u001b[39m\u001b[39mNone\u001b[39;00m):\n\u001b[0;32m    459\u001b[0m \u001b[39m    \u001b[39m\u001b[39m\"\"\"\u001b[39;00m\n\u001b[0;32m    460\u001b[0m \u001b[39m    Draw the canvas, then save it using `.image.imsave` (to which\u001b[39;00m\n\u001b[0;32m    461\u001b[0m \u001b[39m    *pil_kwargs* and *metadata* are forwarded).\u001b[39;00m\n\u001b[0;32m    462\u001b[0m \u001b[39m    \"\"\"\u001b[39;00m\n\u001b[1;32m--> 463\u001b[0m     FigureCanvasAgg\u001b[39m.\u001b[39;49mdraw(\u001b[39mself\u001b[39;49m)\n\u001b[0;32m    464\u001b[0m     mpl\u001b[39m.\u001b[39mimage\u001b[39m.\u001b[39mimsave(\n\u001b[0;32m    465\u001b[0m         filename_or_obj, \u001b[39mself\u001b[39m\u001b[39m.\u001b[39mbuffer_rgba(), \u001b[39mformat\u001b[39m\u001b[39m=\u001b[39mfmt, origin\u001b[39m=\u001b[39m\u001b[39m\"\u001b[39m\u001b[39mupper\u001b[39m\u001b[39m\"\u001b[39m,\n\u001b[0;32m    466\u001b[0m         dpi\u001b[39m=\u001b[39m\u001b[39mself\u001b[39m\u001b[39m.\u001b[39mfigure\u001b[39m.\u001b[39mdpi, metadata\u001b[39m=\u001b[39mmetadata, pil_kwargs\u001b[39m=\u001b[39mpil_kwargs)\n",
      "File \u001b[1;32m~\\AppData\\Local\\Packages\\PythonSoftwareFoundation.Python.3.10_qbz5n2kfra8p0\\LocalCache\\local-packages\\Python310\\site-packages\\matplotlib\\backends\\backend_agg.py:399\u001b[0m, in \u001b[0;36mFigureCanvasAgg.draw\u001b[1;34m(self)\u001b[0m\n\u001b[0;32m    397\u001b[0m \u001b[39mdef\u001b[39;00m \u001b[39mdraw\u001b[39m(\u001b[39mself\u001b[39m):\n\u001b[0;32m    398\u001b[0m     \u001b[39m# docstring inherited\u001b[39;00m\n\u001b[1;32m--> 399\u001b[0m     \u001b[39mself\u001b[39m\u001b[39m.\u001b[39mrenderer \u001b[39m=\u001b[39m \u001b[39mself\u001b[39;49m\u001b[39m.\u001b[39;49mget_renderer()\n\u001b[0;32m    400\u001b[0m     \u001b[39mself\u001b[39m\u001b[39m.\u001b[39mrenderer\u001b[39m.\u001b[39mclear()\n\u001b[0;32m    401\u001b[0m     \u001b[39m# Acquire a lock on the shared font cache.\u001b[39;00m\n",
      "File \u001b[1;32m~\\AppData\\Local\\Packages\\PythonSoftwareFoundation.Python.3.10_qbz5n2kfra8p0\\LocalCache\\local-packages\\Python310\\site-packages\\matplotlib\\_api\\deprecation.py:384\u001b[0m, in \u001b[0;36mdelete_parameter.<locals>.wrapper\u001b[1;34m(*inner_args, **inner_kwargs)\u001b[0m\n\u001b[0;32m    379\u001b[0m \u001b[39m@functools\u001b[39m\u001b[39m.\u001b[39mwraps(func)\n\u001b[0;32m    380\u001b[0m \u001b[39mdef\u001b[39;00m \u001b[39mwrapper\u001b[39m(\u001b[39m*\u001b[39minner_args, \u001b[39m*\u001b[39m\u001b[39m*\u001b[39minner_kwargs):\n\u001b[0;32m    381\u001b[0m     \u001b[39mif\u001b[39;00m \u001b[39mlen\u001b[39m(inner_args) \u001b[39m<\u001b[39m\u001b[39m=\u001b[39m name_idx \u001b[39mand\u001b[39;00m name \u001b[39mnot\u001b[39;00m \u001b[39min\u001b[39;00m inner_kwargs:\n\u001b[0;32m    382\u001b[0m         \u001b[39m# Early return in the simple, non-deprecated case (much faster than\u001b[39;00m\n\u001b[0;32m    383\u001b[0m         \u001b[39m# calling bind()).\u001b[39;00m\n\u001b[1;32m--> 384\u001b[0m         \u001b[39mreturn\u001b[39;00m func(\u001b[39m*\u001b[39minner_args, \u001b[39m*\u001b[39m\u001b[39m*\u001b[39minner_kwargs)\n\u001b[0;32m    385\u001b[0m     arguments \u001b[39m=\u001b[39m signature\u001b[39m.\u001b[39mbind(\u001b[39m*\u001b[39minner_args, \u001b[39m*\u001b[39m\u001b[39m*\u001b[39minner_kwargs)\u001b[39m.\u001b[39marguments\n\u001b[0;32m    386\u001b[0m     \u001b[39mif\u001b[39;00m is_varargs \u001b[39mand\u001b[39;00m arguments\u001b[39m.\u001b[39mget(name):\n",
      "File \u001b[1;32m~\\AppData\\Local\\Packages\\PythonSoftwareFoundation.Python.3.10_qbz5n2kfra8p0\\LocalCache\\local-packages\\Python310\\site-packages\\matplotlib\\backends\\backend_agg.py:416\u001b[0m, in \u001b[0;36mFigureCanvasAgg.get_renderer\u001b[1;34m(self, cleared)\u001b[0m\n\u001b[0;32m    414\u001b[0m reuse_renderer \u001b[39m=\u001b[39m (\u001b[39mself\u001b[39m\u001b[39m.\u001b[39m_lastKey \u001b[39m==\u001b[39m key)\n\u001b[0;32m    415\u001b[0m \u001b[39mif\u001b[39;00m \u001b[39mnot\u001b[39;00m reuse_renderer:\n\u001b[1;32m--> 416\u001b[0m     \u001b[39mself\u001b[39m\u001b[39m.\u001b[39mrenderer \u001b[39m=\u001b[39m RendererAgg(w, h, \u001b[39mself\u001b[39;49m\u001b[39m.\u001b[39;49mfigure\u001b[39m.\u001b[39;49mdpi)\n\u001b[0;32m    417\u001b[0m     \u001b[39mself\u001b[39m\u001b[39m.\u001b[39m_lastKey \u001b[39m=\u001b[39m key\n\u001b[0;32m    418\u001b[0m \u001b[39melif\u001b[39;00m cleared:\n",
      "File \u001b[1;32m~\\AppData\\Local\\Packages\\PythonSoftwareFoundation.Python.3.10_qbz5n2kfra8p0\\LocalCache\\local-packages\\Python310\\site-packages\\matplotlib\\backends\\backend_agg.py:84\u001b[0m, in \u001b[0;36mRendererAgg.__init__\u001b[1;34m(self, width, height, dpi)\u001b[0m\n\u001b[0;32m     82\u001b[0m \u001b[39mself\u001b[39m\u001b[39m.\u001b[39mwidth \u001b[39m=\u001b[39m width\n\u001b[0;32m     83\u001b[0m \u001b[39mself\u001b[39m\u001b[39m.\u001b[39mheight \u001b[39m=\u001b[39m height\n\u001b[1;32m---> 84\u001b[0m \u001b[39mself\u001b[39m\u001b[39m.\u001b[39m_renderer \u001b[39m=\u001b[39m _RendererAgg(\u001b[39mint\u001b[39;49m(width), \u001b[39mint\u001b[39;49m(height), dpi)\n\u001b[0;32m     85\u001b[0m \u001b[39mself\u001b[39m\u001b[39m.\u001b[39m_filter_renderers \u001b[39m=\u001b[39m []\n\u001b[0;32m     87\u001b[0m \u001b[39mself\u001b[39m\u001b[39m.\u001b[39m_update_methods()\n",
      "\u001b[1;31mValueError\u001b[0m: Image size of 1634x204067 pixels is too large. It must be less than 2^16 in each direction."
     ]
    },
    {
     "data": {
      "text/plain": [
       "<Figure size 640x480 with 1 Axes>"
      ]
     },
     "metadata": {},
     "output_type": "display_data"
    }
   ],
   "source": [
    "# %%\n",
    "import numpy as np\n",
    "import matplotlib.pylab as plt\n",
    "from sklearn.manifold import TSNE\n",
    "import seaborn as sns\n",
    "\n",
    "%matplotlib inline\n",
    "\n",
    "n_components = 2\n",
    "tsne = TSNE(n_components)\n",
    "model_normalized_space = model.activation(model.shared_embedding.weight.detach())\n",
    "tsne_result = tsne.fit_transform(model_normalized_space)\n",
    "tsne_result.shape\n",
    "# y =  movied_pd[\"genres\"].map(lambda x : x.split('|')[0])\n",
    "y =  movied_pd[\"title\"]\n",
    "\n",
    "tsne_result_df = pd.DataFrame({'tsne_1': tsne_result[:,0], 'tsne_2': tsne_result[:,1], 'label': y})\n",
    "fig, ax = plt.subplots(1)\n",
    "axx = sns.scatterplot(x='tsne_1', y='tsne_2', hue='label', data=tsne_result_df, ax=ax,s=5)\n",
    "lim = (tsne_result.min(), tsne_result.max())\n",
    "ax.set_xlim(lim)\n",
    "ax.set_ylim(lim)\n",
    "ax.set_aspect('equal')\n",
    "ax.legend(bbox_to_anchor=(1.05, 1), loc=2, borderaxespad=0.0)\n",
    "\n",
    "# # %%\n",
    "# x = model.embedding_space.weight[:,0]\n",
    "# y = model.embedding_space.weight[:,1]\n",
    "# plt.scatter(x.detach(),y.detach())"
   ]
  },
  {
   "cell_type": "code",
   "execution_count": 1375,
   "metadata": {},
   "outputs": [
    {
     "data": {
      "text/plain": [
       "Text(0.5, 1.0, 'accuracy')"
      ]
     },
     "execution_count": 1375,
     "metadata": {},
     "output_type": "execute_result"
    },
    {
     "data": {
      "image/png": "[encoded data removed]",
      "text/plain": [
       "<Figure size 700x700 with 2 Axes>"
      ]
     },
     "metadata": {},
     "output_type": "display_data"
    }
   ],
   "source": [
    "import matplotlib.pylab as plt\n",
    "fig, axs = plt.subplots(2,figsize=(7, 7))\n",
    "# fig.suptitle('Vertically stacked subplots')\n",
    "axs[0].plot(loss_vals, 'tab:orange')\n",
    "axs[0].set_title('loss')\n",
    "\n",
    "axs[1].plot(acc_vals, label=\"accuracy\")\n",
    "axs[1].set_title('accuracy')\n",
    "\n",
    "# plt.plot(loss_vals, label = \"loss\")\n",
    "# plt.plot(acc_vals, label = \"accuracy\")"
   ]
  },
  {
   "cell_type": "code",
   "execution_count": 903,
   "metadata": {},
   "outputs": [],
   "source": [
    "torch.save(model.state_dict(), 'model_pytorch3.h5')"
   ]
  },
  {
   "cell_type": "code",
   "execution_count": 1251,
   "metadata": {},
   "outputs": [
    {
     "name": "stdout",
     "output_type": "stream",
     "text": [
      "torch.Size([5, 2])\n",
      "torch.Size([1, 2])\n",
      "torch.Size([2, 1])\n",
      "tensor([[ 0.3816, -0.0205],\n",
      "        [-1.2910, -0.1754],\n",
      "        [ 0.4043, -1.2051],\n",
      "        [-0.6019,  0.5514],\n",
      "        [ 0.5551, -0.0626]], grad_fn=<EmbeddingBackward0>)\n",
      "tensor([[ 0.3277, -1.1570,  0.1121, -0.4137,  0.4701]], grad_fn=<MmBackward0>)\n"
     ]
    }
   ],
   "source": [
    "context_emb = model.shared_embedding(torch.tensor([1,2,3,4,5]))\n",
    "movie_emb = model.shared_embedding(torch.tensor([6]))\n",
    "print(context_emb.shape)\n",
    "print(movie_emb.shape)\n",
    "# dots = torch.einsum('be,bce->bc', movie_emb, context_emb)\n",
    "\n",
    "print(movie_emb.T.shape)\n",
    "print(context_emb)\n",
    "# print(dots)\n",
    "other = movie_emb @ context_emb.T\n",
    "print(other)"
   ]
  },
  {
   "cell_type": "code",
   "execution_count": 1257,
   "metadata": {},
   "outputs": [
    {
     "name": "stdout",
     "output_type": "stream",
     "text": [
      "torch.Size([2, 5, 2])\n",
      "torch.Size([2, 2])\n"
     ]
    },
    {
     "name": "stderr",
     "output_type": "stream",
     "text": [
      "C:\\Users\\Nicholas\\AppData\\Local\\Temp\\ipykernel_28840\\3634187933.py:5: UserWarning: The use of `x.T` on tensors of dimension other than 2 to reverse their shape is deprecated and it will throw an error in a future release. Consider `x.mT` to transpose batches of matrices or `x.permute(*torch.arange(x.ndim - 1, -1, -1))` to reverse the dimensions of a tensor. (Triggered internally at ..\\aten\\src\\ATen\\native\\TensorShape.cpp:3281.)\n",
      "  dots = movie_emb @ context_emb.T\n"
     ]
    },
    {
     "ename": "RuntimeError",
     "evalue": "mat1 and mat2 shapes cannot be multiplied (4x5 and 2x2)",
     "output_type": "error",
     "traceback": [
      "\u001b[1;31m---------------------------------------------------------------------------\u001b[0m",
      "\u001b[1;31mRuntimeError\u001b[0m                              Traceback (most recent call last)",
      "Cell \u001b[1;32mIn[1257], line 5\u001b[0m\n\u001b[0;32m      3\u001b[0m \u001b[39mprint\u001b[39m(context_emb\u001b[39m.\u001b[39mshape)\n\u001b[0;32m      4\u001b[0m \u001b[39mprint\u001b[39m(movie_emb\u001b[39m.\u001b[39mshape)\n\u001b[1;32m----> 5\u001b[0m dots \u001b[39m=\u001b[39m movie_emb \u001b[39m@\u001b[39;49m context_emb\u001b[39m.\u001b[39;49mT\n\u001b[0;32m      6\u001b[0m \u001b[39mprint\u001b[39m(dots)\n",
      "\u001b[1;31mRuntimeError\u001b[0m: mat1 and mat2 shapes cannot be multiplied (4x5 and 2x2)"
     ]
    }
   ],
   "source": [
    "context_emb = model.shared_embedding(torch.tensor([[1,2,3,4,5],[1,2,3,4,5]]))\n",
    "movie_emb = model.shared_embedding(torch.tensor([6,6]))\n",
    "print(context_emb.shape)\n",
    "print(movie_emb.shape)\n",
    "dots = movie_emb @ context_emb.T\n",
    "print(dots)\n",
    "\n"
   ]
  },
  {
   "cell_type": "code",
   "execution_count": 1253,
   "metadata": {},
   "outputs": [
    {
     "name": "stdout",
     "output_type": "stream",
     "text": [
      "torch.Size([2, 5, 2])\n",
      "torch.Size([2, 2])\n",
      "tensor([[ 0.3277, -1.1570,  0.1121, -0.4137,  0.4701],\n",
      "        [ 0.3277, -1.1570,  0.1121, -0.4137,  0.4701]],\n",
      "       grad_fn=<ViewBackward0>)\n"
     ]
    }
   ],
   "source": [
    "context_emb = model.shared_embedding(torch.tensor([[1,2,3,4,5],[1,2,3,4,5]]))\n",
    "movie_emb = model.shared_embedding(torch.tensor([6,6]))\n",
    "print(context_emb.shape)\n",
    "print(movie_emb.shape)\n",
    "dots = torch.einsum('be,bce->bc', movie_emb, context_emb)\n",
    "print(dots)\n",
    "\n"
   ]
  },
  {
   "cell_type": "code",
   "execution_count": 1334,
   "metadata": {},
   "outputs": [
    {
     "name": "stdout",
     "output_type": "stream",
     "text": [
      "tensor([[0.6106],\n",
      "        [0.9894]])\n",
      "tensor([[0.3777, 0.6375, 0.4384, 0.5464, 0.5856],\n",
      "        [0.5381, 0.4222, 0.6403, 0.4121, 0.5445]])\n",
      "tensor([[0.3777, 0.6375, 0.4384, 0.5464, 0.5856, 0.6106],\n",
      "        [0.5381, 0.4222, 0.6403, 0.4121, 0.5445, 0.9894]])\n"
     ]
    }
   ],
   "source": [
    "embedding_matrix = torch.rand(2,50)\n",
    "other = torch.rand(2, 1)\n",
    "print(other)\n",
    "pool = nn.AvgPool1d(10)\n",
    "x = pool(embedding_matrix)\n",
    "print(x)\n",
    "\n",
    "cat = torch.cat([x,other], dim=1)\n",
    "print(cat)"
   ]
  }
 ],
 "metadata": {
  "kernelspec": {
   "display_name": "Python 3",
   "language": "python",
   "name": "python3"
  },
  "language_info": {
   "codemirror_mode": {
    "name": "ipython",
    "version": 3
   },
   "file_extension": ".py",
   "mimetype": "text/x-python",
   "name": "python",
   "nbconvert_exporter": "python",
   "pygments_lexer": "ipython3",
   "version": "3.10.10"
  },
  "orig_nbformat": 4,
  "vscode": {
   "interpreter": {
    "hash": "8eea8046df991f2c7d150f9e200d8f84229f8c45d279eb8096b41663a27964b3"
   }
  }
 },
 "nbformat": 4,
 "nbformat_minor": 2
}
